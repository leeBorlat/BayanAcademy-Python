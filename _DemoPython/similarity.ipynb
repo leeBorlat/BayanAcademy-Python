{
 "cells": [
  {
   "cell_type": "code",
   "execution_count": null,
   "id": "a39eaf5f",
   "metadata": {},
   "outputs": [],
   "source": [
    "def cosine_similarity(input1,input2):\n",
    "    \n",
    "    # dot product (A . B)\n",
    "    \n",
    "    dot_product = (input1[0] * input2[0]) + (input1[1] * input2[1]) + (input1[2] * input2[2])\n",
    "    \n",
    "    # magnitude ||A||\n",
    "    \n",
    "    \n",
    "    #create muna empty list for container\n",
    "    squared_numbers_A=[]\n",
    "    for num in input1:\n",
    "        \"\"\" issquare natin per item sa list then isquare-root yung total nila\n",
    "        \"\"\"\n",
    "        squared_num = num ** 2\n",
    "        squared_numbers_A.append(squared_num)\n",
    "       \n",
    "    total = sum(squared_numbers_A)\n",
    "    magnitude_A = total ** 0.5\n",
    "    \n",
    "    # magnitude ||B||\n",
    "    \n",
    "    #create muna empty list for container\n",
    "    squared_numbers_B=[]\n",
    "    for num in input2:\n",
    "        squared_num = num ** 2\n",
    "        squared_numbers_B.append(squared_num)\n",
    "       \n",
    "    total = sum(squared_numbers_B)\n",
    "    magnitude_B = total ** 0.5\n",
    "    \n",
    "    return dot_product / (magnitude_A*magnitude_B)\n",
    "    "
   ]
  }
 ],
 "metadata": {
  "kernelspec": {
   "display_name": "Python 3 (ipykernel)",
   "language": "python",
   "name": "python3"
  },
  "language_info": {
   "codemirror_mode": {
    "name": "ipython",
    "version": 3
   },
   "file_extension": ".py",
   "mimetype": "text/x-python",
   "name": "python",
   "nbconvert_exporter": "python",
   "pygments_lexer": "ipython3",
   "version": "3.9.12"
  }
 },
 "nbformat": 4,
 "nbformat_minor": 5
}
