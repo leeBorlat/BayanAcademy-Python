{
 "cells": [
  {
   "cell_type": "markdown",
   "id": "2d2916b5",
   "metadata": {},
   "source": [
    "# *Project Milestone - 2_Lee Ryan Edward Borlat*"
   ]
  },
  {
   "cell_type": "markdown",
   "id": "c37cc6b9",
   "metadata": {},
   "source": [
    "**Question 1:** "
   ]
  },
  {
   "cell_type": "markdown",
   "id": "4e498edd",
   "metadata": {},
   "source": [
    "Define a  function recursivecount() which accepts the given list from user and must return the number of items in the list, using recursion, if the list is not empty. Input is user’s choice.\n",
    "\n",
    "[Hint: Make sure that you are not using len () function to count it.].\n",
    "\n",
    "If the user input is an empty list, then it must throw an error message \"the given list is empty\"\n",
    "\n",
    "[Hint: Use try and Exception]\n"
   ]
  },
  {
   "cell_type": "code",
   "execution_count": 1,
   "id": "4bcb7175",
   "metadata": {},
   "outputs": [],
   "source": [
    "def recursivecount(lst):\n",
    "    # use a try block to test the block of code\n",
    "    try:\n",
    "        # kung walang laman yung list:\n",
    "        if not lst :\n",
    "            #raise yung ginamit because ito yung mag susubstitute sa error message\n",
    "            raise Exception(\"the given list is empty\")\n",
    "        # kung merong laman yung list na more than 1 \n",
    "        if lst[1:]:\n",
    "            # return 1 + kung ilan yung value ng laman ng list [1:]\n",
    "            return 1 + recursivecount(lst[1:])\n",
    "        else:\n",
    "            # kung exactly 1 lang yung laman\n",
    "            return 1\n",
    "    #except block    \n",
    "    except Exception as e:\n",
    "        print(e)\n"
   ]
  },
  {
   "cell_type": "code",
   "execution_count": 2,
   "id": "dc5aba0a",
   "metadata": {
    "scrolled": false
   },
   "outputs": [
    {
     "name": "stdout",
     "output_type": "stream",
     "text": [
      "the given list is empty\n"
     ]
    }
   ],
   "source": [
    "recursivecount('')"
   ]
  },
  {
   "cell_type": "code",
   "execution_count": 3,
   "id": "e2dc847a",
   "metadata": {},
   "outputs": [
    {
     "data": {
      "text/plain": [
       "5"
      ]
     },
     "execution_count": 3,
     "metadata": {},
     "output_type": "execute_result"
    }
   ],
   "source": [
    "recursivecount([1,23,4,5,6])"
   ]
  },
  {
   "cell_type": "code",
   "execution_count": 4,
   "id": "5e06a499",
   "metadata": {},
   "outputs": [
    {
     "data": {
      "text/plain": [
       "1"
      ]
     },
     "execution_count": 4,
     "metadata": {},
     "output_type": "execute_result"
    }
   ],
   "source": [
    "recursivecount('1')"
   ]
  },
  {
   "cell_type": "markdown",
   "id": "f8ad81e6",
   "metadata": {},
   "source": [
    "**Question 2:** "
   ]
  },
  {
   "cell_type": "markdown",
   "id": "41198bba",
   "metadata": {},
   "source": [
    "create a module called similarity which should have the program for cosine_similarity.\n",
    "\n",
    "make sure that you are doing hard coding to find the cosine similarity. \n",
    "\n",
    "\n",
    "Now in the python program, import that module calculate the cosine_similarity for the followings. \n",
    "\n",
    "input1=[4,4,5]\n",
    "\n",
    "input2=[4,2,3]\n"
   ]
  },
  {
   "cell_type": "code",
   "execution_count": 5,
   "id": "613da4eb",
   "metadata": {},
   "outputs": [
    {
     "name": "stdout",
     "output_type": "stream",
     "text": [
      "0.9592419874893997\n"
     ]
    }
   ],
   "source": [
    "import similarity\n",
    "\n",
    "answer = similarity.cosine_similarity([4,4,5],[4,2,3])\n",
    "print(answer)"
   ]
  },
  {
   "cell_type": "markdown",
   "id": "b69470fe",
   "metadata": {},
   "source": [
    "**Question 3:**  "
   ]
  },
  {
   "cell_type": "markdown",
   "id": "69860152",
   "metadata": {},
   "source": [
    "Create 4 lists, each has 6 items in it. No duplicate values/duplicate lists are allowed.\n",
    "\n",
    "Now create a function called \"calculation\" which must return the result of (product of 2 lowest / product of 2 highest)\n",
    "\n",
    "Say an example if your list is [1,2,3,4,5,6], it must return (1x2)/(5x6)=0.067. \n",
    "\n",
    "Round the final answer to 3 decimal places. \n",
    "\n",
    "\n",
    "Keep all the lists in a base class called \"parent\"\n",
    "\n",
    "Function should be in derived class called \"child\"\n"
   ]
  },
  {
   "cell_type": "code",
   "execution_count": 85,
   "id": "0028349d",
   "metadata": {},
   "outputs": [],
   "source": [
    "import random\n",
    "import math\n",
    "\n",
    "class Parent:\n",
    "    def __init__(self):\n",
    "        self.list1 = [random.randint(1, 100) for i in range(6)]\n",
    "        self.list2 = [random.randint(1, 100) for i in range(6)]\n",
    "        self.list3 = [random.randint(1, 100) for i in range(6)]\n",
    "        self.list4 = [random.randint(1, 100) for i in range(6)]\n",
    "\n",
    "class Child(Parent):\n",
    "    def calculation(self):\n",
    "        list1_sorted = sorted(self.list1)\n",
    "        list2_sorted = sorted(self.list2)\n",
    "        list3_sorted = sorted(self.list3)\n",
    "        list4_sorted = sorted(self.list4)\n",
    "\n",
    "        result1 = ((list1_sorted[0] * list1_sorted[1]) / (list1_sorted[4] * list1_sorted[5]))\n",
    "        result2 = ((list2_sorted[0] * list2_sorted[1]) / (list2_sorted[4] * list2_sorted[5]))\n",
    "        result3 = ((list3_sorted[0] * list3_sorted[1]) / (list3_sorted[4] * list3_sorted[5]))\n",
    "        result4 = ((list4_sorted[0] * list4_sorted[1]) / (list4_sorted[4] * list4_sorted[5]))\n",
    "\n",
    "        print(f\"Result of list1: {round(result1, 3)}\")\n",
    "        print(f\"Result of list2: {round(result2, 3)}\")\n",
    "        print(f\"Result of list3: {round(result3, 3)}\")\n",
    "        print(f\"Result of list4: {round(result4, 3)}\")\n",
    "        result = result1 + result2 + result3 + result4\n",
    "        return round(result, 3)\n",
    "\n",
    "p = Parent()\n",
    "c = Child()\n"
   ]
  },
  {
   "cell_type": "code",
   "execution_count": 94,
   "id": "021daf3f",
   "metadata": {},
   "outputs": [
    {
     "name": "stdout",
     "output_type": "stream",
     "text": [
      "List1 is: [35, 93, 62, 26, 17, 12]\n",
      "\n",
      "List1 is: [45, 59, 13, 39, 19, 39]\n",
      "\n",
      "List1 is: [79, 8, 47, 82, 100, 73]\n",
      "\n",
      "List1 is: [30, 11, 78, 66, 54, 84]\n",
      "\n",
      "Result of list1: 0.152\n",
      "Result of list2: 0.037\n",
      "Result of list3: 0.259\n",
      "Result of list4: 0.131\n",
      "\n",
      "The answer is: 0.579\n"
     ]
    }
   ],
   "source": [
    "print(f\"List1 is: {p.list1}\\n\")\n",
    "print(f\"List1 is: {p.list2}\\n\")\n",
    "print(f\"List1 is: {p.list3}\\n\")\n",
    "print(f\"List1 is: {p.list4}\\n\")\n",
    "print(f\"\\nThe answer is: {c.calculation()}\")"
   ]
  },
  {
   "cell_type": "markdown",
   "id": "2b020cf8",
   "metadata": {},
   "source": [
    "**Question 4:**"
   ]
  },
  {
   "cell_type": "markdown",
   "id": "f75d4491",
   "metadata": {},
   "source": [
    "Create a class called “ list-checking” to check whether the sub list is a subset of super list or not.\n",
    "\n",
    "Show answers for both cases \n",
    "1) the given sub list is a subset of superlist \n",
    "\n",
    "2)the given sub list is not a subset of super list\n",
    "\n"
   ]
  },
  {
   "cell_type": "code",
   "execution_count": 97,
   "id": "bb2638f3",
   "metadata": {},
   "outputs": [],
   "source": [
    "class list_checking:\n",
    "           \n",
    "    def __init__(self,super_lst = [1,2,3,4,5]):\n",
    "        self.super_lst = super_lst\n",
    "        \n",
    "        \n",
    "    def check_num(self, sub_list):\n",
    "        if all(item in self.super_lst for item in sub_list):\n",
    "            print(\"the given sub list is a subset of superlist\")\n",
    "            \n",
    "        else: \n",
    "            print(\"the given sub list is not a subset of super list\")"
   ]
  },
  {
   "cell_type": "code",
   "execution_count": 98,
   "id": "a5d73a01",
   "metadata": {},
   "outputs": [
    {
     "name": "stdout",
     "output_type": "stream",
     "text": [
      "the given sub list is a subset of superlist\n"
     ]
    }
   ],
   "source": [
    "f = list_checking()\n",
    "f.check_num([2,3])"
   ]
  },
  {
   "cell_type": "code",
   "execution_count": 43,
   "id": "a7473ed2",
   "metadata": {},
   "outputs": [
    {
     "name": "stdout",
     "output_type": "stream",
     "text": [
      "the given sub list is not a subset of super list\n"
     ]
    }
   ],
   "source": [
    "f.check_num([0,6])"
   ]
  },
  {
   "cell_type": "markdown",
   "id": "a37d6abb",
   "metadata": {},
   "source": [
    "**Question 5:**\n"
   ]
  },
  {
   "cell_type": "markdown",
   "id": "7f956bf0",
   "metadata": {},
   "source": [
    "Create a function “file-lines” that accepts an unlimited number of arguments having file paths as values and returns a \n",
    "\n",
    "dictionary with the argument name as the key and the total number of characters in the file path as value.\n",
    "\n",
    "Input should be the one as follows:\n",
    "\n",
    "File-lines(F1=’/mnt/data.docx’,\n",
    "\n",
    "               F2=’/mnt/xxx.docx’,\n",
    "               \n",
    "               F3=’/mnt/file123.jpg’) \n",
    "               \n",
    "\n",
    "Expected output:\n",
    "\n",
    "{F1: 16, F2:15, F3:17}\n",
    "\n"
   ]
  },
  {
   "cell_type": "code",
   "execution_count": 99,
   "id": "e41ceec1",
   "metadata": {},
   "outputs": [],
   "source": [
    "def file_lines(*args, **kwargs):\n",
    "    result = {}\n",
    "    for key, value in kwargs.items():\n",
    "        result[key] = len(value)\n",
    "    return result\n"
   ]
  },
  {
   "cell_type": "code",
   "execution_count": 100,
   "id": "0e81d5fb",
   "metadata": {},
   "outputs": [
    {
     "data": {
      "text/plain": [
       "{'F1': 14, 'F2': 13, 'F3': 16}"
      ]
     },
     "execution_count": 100,
     "metadata": {},
     "output_type": "execute_result"
    }
   ],
   "source": [
    "file_lines(F1='/mnt/data.docx',\n",
    "           F2='/mnt/xxx.docx',\n",
    "           F3='/mnt/file123.jpg')\n"
   ]
  },
  {
   "cell_type": "code",
   "execution_count": null,
   "id": "086a683e",
   "metadata": {},
   "outputs": [],
   "source": []
  }
 ],
 "metadata": {
  "kernelspec": {
   "display_name": "Python 3 (ipykernel)",
   "language": "python",
   "name": "python3"
  },
  "language_info": {
   "codemirror_mode": {
    "name": "ipython",
    "version": 3
   },
   "file_extension": ".py",
   "mimetype": "text/x-python",
   "name": "python",
   "nbconvert_exporter": "python",
   "pygments_lexer": "ipython3",
   "version": "3.9.12"
  }
 },
 "nbformat": 4,
 "nbformat_minor": 5
}
