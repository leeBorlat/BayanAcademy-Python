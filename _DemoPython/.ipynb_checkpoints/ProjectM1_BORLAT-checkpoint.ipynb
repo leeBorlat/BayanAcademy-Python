{
 "cells": [
  {
   "cell_type": "markdown",
   "id": "2d2916b5",
   "metadata": {},
   "source": [
    "# *Project Milestone - 1_Lee Ryan Edward Borlat*"
   ]
  },
  {
   "cell_type": "markdown",
   "id": "c37cc6b9",
   "metadata": {},
   "source": [
    "**Question 1:** "
   ]
  },
  {
   "cell_type": "markdown",
   "id": "4e498edd",
   "metadata": {},
   "source": [
    "Given Price=300, use python to figure out the square root of the price"
   ]
  },
  {
   "cell_type": "code",
   "execution_count": 1,
   "id": "3a467d60",
   "metadata": {},
   "outputs": [
    {
     "name": "stdout",
     "output_type": "stream",
     "text": [
      "17.320508075688775\n"
     ]
    }
   ],
   "source": [
    "#instantiate\n",
    "price = 300\n",
    "\n",
    "#kunin using formula\n",
    "print (price**.5)"
   ]
  },
  {
   "cell_type": "markdown",
   "id": "f8ad81e6",
   "metadata": {},
   "source": [
    "**Question 2:** "
   ]
  },
  {
   "cell_type": "markdown",
   "id": "41198bba",
   "metadata": {},
   "source": [
    "Given the String:     Stock_index=\"SP500\", Grab 500 from the string using indexing and also show its indices"
   ]
  },
  {
   "cell_type": "code",
   "execution_count": 2,
   "id": "f2284cdd",
   "metadata": {},
   "outputs": [
    {
     "name": "stdout",
     "output_type": "stream",
     "text": [
      "Grabbed string =  500\n"
     ]
    }
   ],
   "source": [
    "#instantiate\n",
    "Stock_index = \"SP500\"\n",
    "\n",
    "#kunin using indexing\n",
    "print(\"Grabbed string = \",Stock_index[2:])"
   ]
  },
  {
   "cell_type": "markdown",
   "id": "b69470fe",
   "metadata": {},
   "source": [
    "**Question 3:**  "
   ]
  },
  {
   "cell_type": "markdown",
   "id": "69860152",
   "metadata": {},
   "source": [
    "Given the variables:     stock_index=\"SP500\" and     price=300, Use .format() to print the following string:"
   ]
  },
  {
   "cell_type": "code",
   "execution_count": 3,
   "id": "ea4ba80b",
   "metadata": {},
   "outputs": [
    {
     "name": "stdout",
     "output_type": "stream",
     "text": [
      "The SP500 is at 300 today\n"
     ]
    }
   ],
   "source": [
    "#instantiate\n",
    "stock_index= \"SP500\"\n",
    "price = 300\n",
    "\n",
    "#print using .format()\n",
    "print(\"The {} is at {} today\".format(stock_index,price))"
   ]
  },
  {
   "cell_type": "markdown",
   "id": "2b020cf8",
   "metadata": {},
   "source": [
    "**Question 4:**"
   ]
  },
  {
   "cell_type": "markdown",
   "id": "f75d4491",
   "metadata": {},
   "source": [
    "Create stock_info dictionary as follows\n",
    "\n",
    "                   stock_info={‘reliance’: {‘today’:300,’yesterday’:250}, \n",
    "                                         ‘info’:[‘Time’,[24,7,365]]}\n",
    "\n",
    " Use indexing and key calls to print the ones as shown below\n",
    "\n",
    " Expected  Output 1:  Yesterday’s reliance share  price was 250 pesos per share\n",
    " \n",
    " Expected  Output 2:   The number 365 is nested inside a list nested inside the ‘info’ key\n"
   ]
  },
  {
   "cell_type": "code",
   "execution_count": 4,
   "id": "d61ad715",
   "metadata": {},
   "outputs": [
    {
     "name": "stdout",
     "output_type": "stream",
     "text": [
      "Yesterday’s reliance share price was 250 pesos per share\n",
      "The number 365 is nested inside a list nested inside the 'info' key\n"
     ]
    }
   ],
   "source": [
    "#instantiate dictionary\n",
    "stock_info = {'reliance': {'today':300,'yesterday':250},'info':['Time',[24,7,365]]}\n",
    "\n",
    "print(\"Yesterday’s reliance share price was {} pesos per share\".format(stock_info['reliance']['yesterday']))\n",
    "print(\"The number {} is nested inside a list nested inside the 'info' key\".format(stock_info['info'][1][2]))"
   ]
  },
  {
   "cell_type": "markdown",
   "id": "a37d6abb",
   "metadata": {},
   "source": [
    "**Question 5:**\n"
   ]
  },
  {
   "cell_type": "markdown",
   "id": "7f956bf0",
   "metadata": {},
   "source": [
    "Create a function called price-finder that returns True if the word ‘price’ is in the string:\n",
    "\n",
    "Your definition must accept different types of inputs as shown below:\n",
    "\n",
    "Input 1= “PRICE of 1 litre petrol is 45 pesos”\n",
    "\n",
    "Input 2= “(PRICE) of 1 litre petrol is 45 pesos”\n",
    "\n",
    "Input 3= “PrIcE of 1 litre petrol is 45 pesos”\n",
    "\n",
    "Input 4= “1 litre petrol price is 45 pesos”\n",
    "\n",
    "Input 5 = “ cost of 1 litre is 54 pesos\"\n"
   ]
  },
  {
   "cell_type": "code",
   "execution_count": 5,
   "id": "5292aef7",
   "metadata": {},
   "outputs": [],
   "source": [
    "#create the function muna to search the word\n",
    "def find_price(text):\n",
    "    #create conditional statement na nilolower-case na yung sentence then find \"price\"\n",
    "        if \"price\".lower() in text.lower():\n",
    "            return True\n",
    "        else:\n",
    "            return False\n",
    "        "
   ]
  },
  {
   "cell_type": "code",
   "execution_count": 6,
   "id": "c1373495",
   "metadata": {},
   "outputs": [
    {
     "data": {
      "text/plain": [
       "True"
      ]
     },
     "execution_count": 6,
     "metadata": {},
     "output_type": "execute_result"
    }
   ],
   "source": [
    "find_price(\"PRICE of 1 litre petrol is 45 pesos\")"
   ]
  },
  {
   "cell_type": "code",
   "execution_count": 7,
   "id": "460f0b19",
   "metadata": {},
   "outputs": [
    {
     "data": {
      "text/plain": [
       "True"
      ]
     },
     "execution_count": 7,
     "metadata": {},
     "output_type": "execute_result"
    }
   ],
   "source": [
    "find_price(\"(PRICE) of 1 litre petrol is 45 pesos\")"
   ]
  },
  {
   "cell_type": "code",
   "execution_count": 8,
   "id": "2e16d5bd",
   "metadata": {},
   "outputs": [
    {
     "data": {
      "text/plain": [
       "True"
      ]
     },
     "execution_count": 8,
     "metadata": {},
     "output_type": "execute_result"
    }
   ],
   "source": [
    "find_price(\"PrIcE of 1 litre petrol is 45 pesos\")"
   ]
  },
  {
   "cell_type": "code",
   "execution_count": 9,
   "id": "659f770c",
   "metadata": {},
   "outputs": [
    {
     "data": {
      "text/plain": [
       "True"
      ]
     },
     "execution_count": 9,
     "metadata": {},
     "output_type": "execute_result"
    }
   ],
   "source": [
    "find_price(\"1 litre petrol price is 45 pesos\")"
   ]
  },
  {
   "cell_type": "code",
   "execution_count": 10,
   "id": "6b69679c",
   "metadata": {},
   "outputs": [
    {
     "data": {
      "text/plain": [
       "False"
      ]
     },
     "execution_count": 10,
     "metadata": {},
     "output_type": "execute_result"
    }
   ],
   "source": [
    "find_price(\"cost of 1 litre is 54 pesos\")"
   ]
  },
  {
   "cell_type": "markdown",
   "id": "58cb97bc",
   "metadata": {},
   "source": [
    "**Question 6:**"
   ]
  },
  {
   "cell_type": "markdown",
   "id": "577971f0",
   "metadata": {},
   "source": [
    "Write a function check_password that returns True if the input password satisfies the following criteria:\n",
    "\n",
    "•\tat least 8 characters in length\n",
    "\n",
    "•\tcontains at least one lowercase letter\n",
    "\n",
    "•\tcontains at least one uppercase letter\n",
    "\n",
    "•\tcontains at least one number\n",
    "\n",
    "•\tcontains “#” symbol\n",
    "\n",
    "It should return False if at least one of the criteria is not satisfied.\n",
    "\n",
    "Use the following inputs to show the results:\n",
    "\n",
    "Input1 = “Bayan1#34”\n",
    "\n",
    "Input2 = “academy@”\n",
    "\n",
    "Input3 = ”Madam1#”\n",
    "\n"
   ]
  },
  {
   "cell_type": "code",
   "execution_count": 11,
   "id": "366805f9",
   "metadata": {},
   "outputs": [],
   "source": [
    "def check_password(password):\n",
    "    if (len(password) >= 8\n",
    "        and \"#\" in password\n",
    "        and any(password.lower() for x in password)\n",
    "        and any(password.upper() for x in password)\n",
    "        and any(str.isnumeric(x) for x in password)):\n",
    "        \n",
    "        return True\n",
    "    else:\n",
    "        return False"
   ]
  },
  {
   "cell_type": "code",
   "execution_count": 12,
   "id": "74e7b6cc",
   "metadata": {},
   "outputs": [
    {
     "data": {
      "text/plain": [
       "True"
      ]
     },
     "execution_count": 12,
     "metadata": {},
     "output_type": "execute_result"
    }
   ],
   "source": [
    "check_password(\"Bayan1#34\")"
   ]
  },
  {
   "cell_type": "code",
   "execution_count": 13,
   "id": "52826063",
   "metadata": {},
   "outputs": [
    {
     "data": {
      "text/plain": [
       "False"
      ]
     },
     "execution_count": 13,
     "metadata": {},
     "output_type": "execute_result"
    }
   ],
   "source": [
    "check_password(\"academy@\")"
   ]
  },
  {
   "cell_type": "code",
   "execution_count": 14,
   "id": "792d549f",
   "metadata": {},
   "outputs": [
    {
     "data": {
      "text/plain": [
       "False"
      ]
     },
     "execution_count": 14,
     "metadata": {},
     "output_type": "execute_result"
    }
   ],
   "source": [
    "check_password(\"Madam1#\")"
   ]
  },
  {
   "cell_type": "markdown",
   "id": "19ffc4cd",
   "metadata": {},
   "source": [
    "**Question 7:**"
   ]
  },
  {
   "cell_type": "markdown",
   "id": "583a2c3b",
   "metadata": {},
   "source": [
    "Part 1: Convert Email to Full Name\n",
    "\n",
    "Create the function email-to-full-name(email) which accepts email as a string input parameter and returns a string containing the first and last name separated by a comma. All characters in the string should be uppercase\n"
   ]
  },
  {
   "cell_type": "code",
   "execution_count": 15,
   "id": "41124230",
   "metadata": {},
   "outputs": [],
   "source": [
    "def email_name(email):\n",
    "    name = email.split('@')[0]\n",
    "    full_name = name.split('.')\n",
    "    full_name.reverse()\n",
    "    return \",\".join(full_name).upper()\n",
    "    \n",
    "    \n",
    "        "
   ]
  },
  {
   "cell_type": "code",
   "execution_count": 16,
   "id": "c3df4ca1",
   "metadata": {},
   "outputs": [
    {
     "data": {
      "text/plain": [
       "'ACER,CRUZ'"
      ]
     },
     "execution_count": 16,
     "metadata": {},
     "output_type": "execute_result"
    }
   ],
   "source": [
    "email_name(\"cruz.acer@mymail.bayan.edu\")"
   ]
  },
  {
   "cell_type": "code",
   "execution_count": 17,
   "id": "8851ea89",
   "metadata": {},
   "outputs": [
    {
     "data": {
      "text/plain": [
       "'JASON,KENDRICK'"
      ]
     },
     "execution_count": 17,
     "metadata": {},
     "output_type": "execute_result"
    }
   ],
   "source": [
    "email_name(\"Kendrick.jason@mymail.bayan.edu\")"
   ]
  },
  {
   "cell_type": "markdown",
   "id": "aa6b3415",
   "metadata": {},
   "source": [
    "Part 2: Calculate Average Grade\n",
    "\n",
    "For the second part of this question, develop the function score-average(s) which accepts s as a string input parameter and returns the average of the four scores within the string as a float.\n"
   ]
  },
  {
   "cell_type": "code",
   "execution_count": 18,
   "id": "da641cef",
   "metadata": {},
   "outputs": [],
   "source": [
    "# import numpy to convert string to array and to average\n",
    "import numpy as np\n",
    "\n",
    "#create function that converts string to array to float\n",
    "def average_grade(s):\n",
    "    # split the string of numbers into a list\n",
    "    splitted = s.split(',')\n",
    "    # initialize numpy array using np.array()\n",
    "    initial_array = np.array(splitted)\n",
    "    # convert using .astyp(float)\n",
    "    final_array = initial_array.astype(float)\n",
    "    # find the mean and put it in a variable \n",
    "    average = np.mean(final_array)\n",
    "    # return\n",
    "    return(average)"
   ]
  },
  {
   "cell_type": "code",
   "execution_count": 19,
   "id": "e2af8d65",
   "metadata": {},
   "outputs": [
    {
     "data": {
      "text/plain": [
       "56.65"
      ]
     },
     "execution_count": 19,
     "metadata": {},
     "output_type": "execute_result"
    }
   ],
   "source": [
    "average_grade(\"0,50.4,80.3,95.9\")"
   ]
  },
  {
   "cell_type": "code",
   "execution_count": 20,
   "id": "a8581203",
   "metadata": {},
   "outputs": [
    {
     "data": {
      "text/plain": [
       "97.1"
      ]
     },
     "execution_count": 20,
     "metadata": {},
     "output_type": "execute_result"
    }
   ],
   "source": [
    "average_grade(\"99.9,91.3,99.2,98.0\")"
   ]
  },
  {
   "cell_type": "code",
   "execution_count": 21,
   "id": "fce383a5",
   "metadata": {},
   "outputs": [],
   "source": [
    "def final_output(a,b):\n",
    "    print(\"{},{}\".format(a,b))"
   ]
  },
  {
   "cell_type": "code",
   "execution_count": 22,
   "id": "389c984a",
   "metadata": {},
   "outputs": [
    {
     "name": "stdout",
     "output_type": "stream",
     "text": [
      "ACER,CRUZ,56.65\n"
     ]
    }
   ],
   "source": [
    "final_output(email_name(\"cruz.acer@mymail.bayan.edu\"),average_grade(\"0,50.4,80.3,95.9\"))"
   ]
  },
  {
   "cell_type": "code",
   "execution_count": 23,
   "id": "ce928631",
   "metadata": {},
   "outputs": [
    {
     "name": "stdout",
     "output_type": "stream",
     "text": [
      "JASON,KENDRICK,97.1\n"
     ]
    }
   ],
   "source": [
    "final_output(email_name(\"Kendrick.jason@mymail.bayan.edu\"),average_grade(\"99.9,91.3,99.2,98.0\"))"
   ]
  },
  {
   "cell_type": "markdown",
   "id": "4fb321ff",
   "metadata": {},
   "source": [
    "**Question 8:**"
   ]
  },
  {
   "cell_type": "markdown",
   "id": "b3804976",
   "metadata": {},
   "source": [
    "Write a function “prime-factorize”  that will print the prime factors of an integer 0<𝑛<500<n<50. It should print the message, Out of range! if the input number is out of the given range. Include 1 in the prime factorization."
   ]
  },
  {
   "cell_type": "code",
   "execution_count": 52,
   "id": "e3aaf35e",
   "metadata": {},
   "outputs": [],
   "source": [
    "def prime_factorize(num):\n",
    "    print(\"The factors of\",num,\"are:\")\n",
    "    factor = []\n",
    "    for i in range(1, num + 1):\n",
    "        if num % i == 0:\n",
    "            factor.append(i)\n",
    "    if 50 in factor: return 'Out of range!'\n",
    "    \n",
    "    return factor"
   ]
  },
  {
   "cell_type": "code",
   "execution_count": 53,
   "id": "11b56291",
   "metadata": {},
   "outputs": [
    {
     "name": "stdout",
     "output_type": "stream",
     "text": [
      "The factors of 17 are:\n"
     ]
    },
    {
     "data": {
      "text/plain": [
       "[1, 17]"
      ]
     },
     "execution_count": 53,
     "metadata": {},
     "output_type": "execute_result"
    }
   ],
   "source": [
    "prime_factorize(17)"
   ]
  },
  {
   "cell_type": "code",
   "execution_count": null,
   "id": "5814bc61",
   "metadata": {},
   "outputs": [],
   "source": []
  }
 ],
 "metadata": {
  "kernelspec": {
   "display_name": "Python 3 (ipykernel)",
   "language": "python",
   "name": "python3"
  },
  "language_info": {
   "codemirror_mode": {
    "name": "ipython",
    "version": 3
   },
   "file_extension": ".py",
   "mimetype": "text/x-python",
   "name": "python",
   "nbconvert_exporter": "python",
   "pygments_lexer": "ipython3",
   "version": "3.9.12"
  }
 },
 "nbformat": 4,
 "nbformat_minor": 5
}
